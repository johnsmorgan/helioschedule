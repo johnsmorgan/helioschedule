{
 "cells": [
  {
   "cell_type": "code",
   "execution_count": 1,
   "metadata": {},
   "outputs": [],
   "source": [
    "import numpy as np\n",
    "from yaml import safe_load\n",
    "import json\n",
    "from astropy.time import Time\n",
    "from astropy import units as u\n",
    "from astropy.coordinates import ICRS, get_sun, Longitude\n",
    "from sunpy.coordinates.frames import Helioprojective\n",
    "\n",
    "from helioschedule.get_local_noons import SolarTransiter\n",
    "from helioschedule.schedule import DayScheduler\n",
    "\n",
    "from matplotlib import pyplot as plt"
   ]
  },
  {
   "cell_type": "code",
   "execution_count": 2,
   "metadata": {},
   "outputs": [],
   "source": [
    "SIDEREAL_FACTOR = 1.0027379093604878  # 86400/((1.0*units.sday).to(units.s).value)"
   ]
  },
  {
   "cell_type": "code",
   "execution_count": 3,
   "metadata": {},
   "outputs": [
    {
     "name": "stdout",
     "output_type": "stream",
     "text": [
      "['East']\n",
      "10800\n"
     ]
    }
   ],
   "source": [
    "conf = safe_load(open(\"John_MWA_Dwell.yaml\"))\n",
    "azel = {int(k): v for k, v in json.load(open(conf[\"files\"][\"pointings\"])).items()}\n",
    "print(conf['priority'])\n",
    "print(conf['solarOffset'])"
   ]
  },
  {
   "cell_type": "markdown",
   "metadata": {},
   "source": [
    "### Calculate local noon closest to reference time"
   ]
  },
  {
   "cell_type": "code",
   "execution_count": 4,
   "metadata": {},
   "outputs": [
    {
     "data": {
      "text/plain": [
       "('2024-09-14T04:08:49.094', 1410322147.094338)"
      ]
     },
     "execution_count": 4,
     "metadata": {},
     "output_type": "execute_result"
    }
   ],
   "source": [
    "# The following class abstracts dealing with skyfield\n",
    "transiter = SolarTransiter(lat_deg_n=conf[\"lat\"],\n",
    "                            lon_deg_e=conf[\"lon\"],\n",
    "                            elevation_m=conf[\"alt\"])\n",
    "\n",
    "# Note that I haven't calculated that this is the exact time that the CME crosses the meridian.\n",
    "# As long as it is correct within an hour or so, this shouldn't actually matter, at least for\n",
    "# this test\n",
    "ref_time = Time(conf['refDate'])\n",
    "\n",
    "# Calculate the local noon closest to (within +/- 12 hours of) ref_time\n",
    "# NB still need to supply times  in skyfield type, but SolarTransiter\n",
    "# has an attribute to make this easy.\n",
    "local_noon = transiter.get_transit(transiter.ts.from_astropy(ref_time-12*u.hour),\n",
    "                                   transiter.ts.from_astropy(ref_time+12*u.hour)).to_astropy().utc[0]\n",
    "local_noon.isot, local_noon.gps\n",
    "                                "
   ]
  },
  {
   "cell_type": "markdown",
   "metadata": {},
   "source": [
    "### Get Sun coordinates and calculate HA and Decl. of fields based on location of Sun at reference time.\n",
    "\n",
    "For scheduling purposes, the coordinates required for each target are the Hour Angle *relative to the Sun* and the Declination, both in Degrees.\n",
    "\n",
    "Note that the code in `convert_coordinates.py` which does this is not particularly accurate or fast (in part because it dates from before `sunpy` was mature). But it is good enough to make updating it a low priority. \n",
    "\n",
    "Here we can use `sunpy` for much more readable code.  Note that `Tx` is west positive, whereas for the yaml file, we measure position angle as North through East."
   ]
  },
  {
   "cell_type": "code",
   "execution_count": 5,
   "metadata": {},
   "outputs": [],
   "source": [
    "sun = get_sun(ref_time)\n",
    "assert len(conf['priority'])==1, f\"Only expecting one field to schedule, got {len(conf['priority'])}\"\n",
    "c = conf['priority'][0]\n",
    "hpc = Helioprojective(Tx=-conf['fields'][c]['coordinates'][0]*u.deg*np.sin(np.radians(conf['fields'][c]['coordinates'][1])),\n",
    "                        Ty=conf['fields'][c]['coordinates'][0]*u.deg*np.cos(np.radians(conf['fields'][c]['coordinates'][1])),\n",
    "                        distance=1*u.Mpc,\n",
    "                        obstime = ref_time,\n",
    "                        observer='earth')\n",
    "radec = hpc.transform_to(ICRS())\n",
    "ha=Longitude(radec.ra - sun.ra, wrap_angle=180 * u.deg)\n",
    "dec=radec.dec\n"
   ]
  },
  {
   "cell_type": "code",
   "execution_count": 6,
   "metadata": {},
   "outputs": [
    {
     "data": {
      "text/plain": [
       "(27.542859385559836, -8.746126307980681)"
      ]
     },
     "execution_count": 6,
     "metadata": {},
     "output_type": "execute_result"
    }
   ],
   "source": [
    "ha.deg, dec.deg"
   ]
  },
  {
   "cell_type": "markdown",
   "metadata": {},
   "source": [
    "### Set up Scheduler object and schedule"
   ]
  },
  {
   "cell_type": "code",
   "execution_count": 8,
   "metadata": {},
   "outputs": [
    {
     "ename": "UnitConversionError",
     "evalue": "Can only apply 'subtract' function to dimensionless quantities when other argument is not a quantity (unless the latter is all zero/infinity/nan).",
     "output_type": "error",
     "traceback": [
      "\u001b[0;31m---------------------------------------------------------------------------\u001b[0m",
      "\u001b[0;31mUnitConversionError\u001b[0m                       Traceback (most recent call last)",
      "Cell \u001b[0;32mIn[8], line 3\u001b[0m\n\u001b[1;32m      1\u001b[0m scheduler \u001b[38;5;241m=\u001b[39m DayScheduler(conf\u001b[38;5;241m=\u001b[39mconf)\n\u001b[1;32m      2\u001b[0m scheduler\u001b[38;5;241m.\u001b[39msetup_day(ref_time_gps\u001b[38;5;241m=\u001b[39mlocal_noon\u001b[38;5;241m.\u001b[39mgps\u001b[38;5;241m+\u001b[39m\u001b[38;5;241m7200\u001b[39m)\n\u001b[0;32m----> 3\u001b[0m \u001b[43mscheduler\u001b[49m\u001b[38;5;241;43m.\u001b[39;49m\u001b[43msetup_obs\u001b[49m\u001b[43m(\u001b[49m\u001b[43msolar_noon_gps\u001b[49m\u001b[38;5;241;43m=\u001b[39;49m\u001b[43mlocal_noon\u001b[49m\u001b[38;5;241;43m.\u001b[39;49m\u001b[43mgps\u001b[49m\u001b[43m,\u001b[49m\u001b[43m \u001b[49m\u001b[43mha\u001b[49m\u001b[38;5;241;43m=\u001b[39;49m\u001b[43mha\u001b[49m\u001b[43m,\u001b[49m\u001b[43m \u001b[49m\u001b[43mdec\u001b[49m\u001b[38;5;241;43m=\u001b[39;49m\u001b[43mdec\u001b[49m\u001b[43m,\u001b[49m\u001b[43m \u001b[49m\u001b[43mdec_sun\u001b[49m\u001b[38;5;241;43m=\u001b[39;49m\u001b[43msun\u001b[49m\u001b[38;5;241;43m.\u001b[39;49m\u001b[43mdec\u001b[49m\u001b[38;5;241;43m.\u001b[39;49m\u001b[43mdeg\u001b[49m\u001b[43m,\u001b[49m\u001b[43m \u001b[49m\u001b[43mbeam_chan\u001b[49m\u001b[38;5;241;43m=\u001b[39;49m\u001b[43mconf\u001b[49m\u001b[43m[\u001b[49m\u001b[38;5;124;43m'\u001b[39;49m\u001b[38;5;124;43mfields\u001b[39;49m\u001b[38;5;124;43m'\u001b[39;49m\u001b[43m]\u001b[49m\u001b[43m[\u001b[49m\u001b[43mc\u001b[49m\u001b[43m]\u001b[49m\u001b[43m[\u001b[49m\u001b[38;5;124;43m'\u001b[39;49m\u001b[38;5;124;43mbeam_chan\u001b[39;49m\u001b[38;5;124;43m'\u001b[39;49m\u001b[43m]\u001b[49m\u001b[43m)\u001b[49m\n\u001b[1;32m      4\u001b[0m \u001b[38;5;66;03m#scheduler = DayScheduler(conf=conf)\u001b[39;00m\n\u001b[1;32m      5\u001b[0m \u001b[38;5;66;03m#schedule = scheduler.schedule_all_day(solar_noon_gps=local_noon.gps,\u001b[39;00m\n\u001b[1;32m      6\u001b[0m \u001b[38;5;66;03m#                                      local_noon_str=local_noon.isot,\u001b[39;00m\n\u001b[0;32m   (...)\u001b[0m\n\u001b[1;32m      9\u001b[0m \u001b[38;5;66;03m#                                     )\u001b[39;00m\n\u001b[1;32m     10\u001b[0m \u001b[38;5;66;03m#adjust_seconds isn't adjusted to be symmetric about zenith, but to avoid later in the day when the Sun is unavoidably in the main lobe as it is setting (which will also foreshorten baselines)\u001b[39;00m\n",
      "File \u001b[0;32m~/Projects/helioschedule/helioschedule/schedule.py:107\u001b[0m, in \u001b[0;36mScheduler.setup_obs\u001b[0;34m(self, solar_noon_gps, ha, dec, dec_sun, beam_chan, regen_sun)\u001b[0m\n\u001b[1;32m    105\u001b[0m     \u001b[38;5;28mself\u001b[39m\u001b[38;5;241m.\u001b[39msun_filter \u001b[38;5;241m=\u001b[39m \u001b[38;5;28mself\u001b[39m\u001b[38;5;241m.\u001b[39msun_beam \u001b[38;5;241m<\u001b[39m \u001b[38;5;241m10\u001b[39m \u001b[38;5;241m*\u001b[39m\u001b[38;5;241m*\u001b[39m \u001b[38;5;28mself\u001b[39m\u001b[38;5;241m.\u001b[39mconf[\u001b[38;5;124m\"\u001b[39m\u001b[38;5;124msolarAttenuationCutoff\u001b[39m\u001b[38;5;124m\"\u001b[39m]\n\u001b[1;32m    106\u001b[0m \u001b[38;5;66;03m# Next, the target field grid\u001b[39;00m\n\u001b[0;32m--> 107\u001b[0m \u001b[38;5;28mself\u001b[39m\u001b[38;5;241m.\u001b[39mtarget_beam \u001b[38;5;241m=\u001b[39m \u001b[38;5;28;43mself\u001b[39;49m\u001b[38;5;241;43m.\u001b[39;49m\u001b[43mbeams\u001b[49m\u001b[38;5;241;43m.\u001b[39;49m\u001b[43minterpolate_beam_2d\u001b[49m\u001b[43m(\u001b[49m\n\u001b[1;32m    108\u001b[0m \u001b[43m    \u001b[49m\u001b[38;5;28;43mself\u001b[39;49m\u001b[38;5;241;43m.\u001b[39;49m\u001b[43mbeams\u001b[49m\u001b[38;5;241;43m.\u001b[39;49m\u001b[43mbeam_str_to_idx\u001b[49m\u001b[43m(\u001b[49m\u001b[43mbeam_chan\u001b[49m\u001b[43m)\u001b[49m\u001b[43m,\u001b[49m\n\u001b[1;32m    109\u001b[0m \u001b[43m    \u001b[49m\u001b[43msolar_noon_gps\u001b[49m\u001b[43m,\u001b[49m\n\u001b[1;32m    110\u001b[0m \u001b[43m    \u001b[49m\u001b[38;5;28;43mself\u001b[39;49m\u001b[38;5;241;43m.\u001b[39;49m\u001b[43mall_obstimes\u001b[49m\u001b[43m,\u001b[49m\n\u001b[1;32m    111\u001b[0m \u001b[43m    \u001b[49m\u001b[43mha\u001b[49m\u001b[43m,\u001b[49m\n\u001b[1;32m    112\u001b[0m \u001b[43m    \u001b[49m\u001b[43mdec\u001b[49m\u001b[43m,\u001b[49m\n\u001b[1;32m    113\u001b[0m \u001b[43m\u001b[49m\u001b[43m)\u001b[49m\n",
      "File \u001b[0;32m~/Projects/helioschedule/helioschedule/beam_interp.py:61\u001b[0m, in \u001b[0;36mBeams.interpolate_beam_2d\u001b[0;34m(self, freq_idx, ha0_obstime, obstimes, ha_offset_deg, dec_deg)\u001b[0m\n\u001b[1;32m     51\u001b[0m \u001b[38;5;28;01mdef\u001b[39;00m \u001b[38;5;21minterpolate_beam_2d\u001b[39m(\u001b[38;5;28mself\u001b[39m, freq_idx, ha0_obstime, obstimes, ha_offset_deg, dec_deg):\n\u001b[1;32m     52\u001b[0m \u001b[38;5;250m    \u001b[39m\u001b[38;5;124;03m\"\"\"\u001b[39;00m\n\u001b[1;32m     53\u001b[0m \u001b[38;5;124;03m    Construct a 2D surface of beams consisting of all pointings for a series of times.\u001b[39;00m\n\u001b[1;32m     54\u001b[0m \u001b[38;5;124;03m    - freq_idx - Frequency index (first axis of beam array)\u001b[39;00m\n\u001b[0;32m   (...)\u001b[0m\n\u001b[1;32m     58\u001b[0m \u001b[38;5;124;03m    - Declination in degrees\u001b[39;00m\n\u001b[1;32m     59\u001b[0m \u001b[38;5;124;03m    \"\"\"\u001b[39;00m\n\u001b[0;32m---> 61\u001b[0m     dec_idx \u001b[38;5;241m=\u001b[39m \u001b[43mneighbours\u001b[49m\u001b[43m(\u001b[49m\u001b[38;5;28;43mself\u001b[39;49m\u001b[38;5;241;43m.\u001b[39;49m\u001b[43mdf\u001b[49m\u001b[43m[\u001b[49m\u001b[38;5;124;43m\"\u001b[39;49m\u001b[38;5;124;43mbeams\u001b[39;49m\u001b[38;5;124;43m\"\u001b[39;49m\u001b[43m]\u001b[49m\u001b[38;5;241;43m.\u001b[39;49m\u001b[43mdims\u001b[49m\u001b[43m[\u001b[49m\u001b[38;5;241;43m2\u001b[39;49m\u001b[43m]\u001b[49m\u001b[43m[\u001b[49m\u001b[38;5;241;43m0\u001b[39;49m\u001b[43m]\u001b[49m\u001b[43m[\u001b[49m\u001b[38;5;241;43m.\u001b[39;49m\u001b[38;5;241;43m.\u001b[39;49m\u001b[38;5;241;43m.\u001b[39;49m\u001b[43m]\u001b[49m\u001b[43m,\u001b[49m\u001b[43m \u001b[49m\u001b[43mdec_deg\u001b[49m\u001b[43m)\u001b[49m\n\u001b[1;32m     62\u001b[0m     beam_1deg \u001b[38;5;241m=\u001b[39m lin_interp(\n\u001b[1;32m     63\u001b[0m         \u001b[38;5;28mself\u001b[39m\u001b[38;5;241m.\u001b[39mdf[\u001b[38;5;124m\"\u001b[39m\u001b[38;5;124mbeams\u001b[39m\u001b[38;5;124m\"\u001b[39m][freq_idx, :, dec_idx[\u001b[38;5;241m0\u001b[39m], :],\n\u001b[1;32m     64\u001b[0m         \u001b[38;5;28mself\u001b[39m\u001b[38;5;241m.\u001b[39mdf[\u001b[38;5;124m\"\u001b[39m\u001b[38;5;124mbeams\u001b[39m\u001b[38;5;124m\"\u001b[39m][freq_idx, :, dec_idx[\u001b[38;5;241m1\u001b[39m], :],\n\u001b[1;32m     65\u001b[0m         dec_deg \u001b[38;5;241m-\u001b[39m \u001b[38;5;28mself\u001b[39m\u001b[38;5;241m.\u001b[39mdf[\u001b[38;5;124m\"\u001b[39m\u001b[38;5;124mbeams\u001b[39m\u001b[38;5;124m\"\u001b[39m]\u001b[38;5;241m.\u001b[39mdims[\u001b[38;5;241m2\u001b[39m][\u001b[38;5;241m0\u001b[39m][dec_idx[\u001b[38;5;241m0\u001b[39m]],\n\u001b[1;32m     66\u001b[0m     )\n\u001b[1;32m     67\u001b[0m     beam_1deg \u001b[38;5;241m=\u001b[39m np\u001b[38;5;241m.\u001b[39mwhere(np\u001b[38;5;241m.\u001b[39misnan(beam_1deg), \u001b[38;5;241m0\u001b[39m, beam_1deg)\n",
      "File \u001b[0;32m~/Projects/helioschedule/helioschedule/beam_interp.py:15\u001b[0m, in \u001b[0;36mneighbours\u001b[0;34m(arr, val)\u001b[0m\n\u001b[1;32m     10\u001b[0m \u001b[38;5;28;01mdef\u001b[39;00m \u001b[38;5;21mneighbours\u001b[39m(arr, val):\n\u001b[1;32m     11\u001b[0m \u001b[38;5;250m    \u001b[39m\u001b[38;5;124;03m\"\"\"\u001b[39;00m\n\u001b[1;32m     12\u001b[0m \u001b[38;5;124;03m    return two closest values in arr to val\u001b[39;00m\n\u001b[1;32m     13\u001b[0m \u001b[38;5;124;03m    assumes arr is sorted (lowest value first)\u001b[39;00m\n\u001b[1;32m     14\u001b[0m \u001b[38;5;124;03m    \"\"\"\u001b[39;00m\n\u001b[0;32m---> 15\u001b[0m     closest \u001b[38;5;241m=\u001b[39m \u001b[43marg_closest\u001b[49m\u001b[43m(\u001b[49m\u001b[43marr\u001b[49m\u001b[43m,\u001b[49m\u001b[43m \u001b[49m\u001b[43mval\u001b[49m\u001b[43m)\u001b[49m\n\u001b[1;32m     16\u001b[0m     \u001b[38;5;28;01mif\u001b[39;00m arr[closest] \u001b[38;5;241m>\u001b[39m val:\n\u001b[1;32m     17\u001b[0m         closest1 \u001b[38;5;241m=\u001b[39m closest \u001b[38;5;241m-\u001b[39m \u001b[38;5;241m1\u001b[39m\n",
      "File \u001b[0;32m~/Projects/helioschedule/helioschedule/beam_interp.py:7\u001b[0m, in \u001b[0;36m<lambda>\u001b[0;34m(x, y)\u001b[0m\n\u001b[1;32m      3\u001b[0m \u001b[38;5;28;01mfrom\u001b[39;00m \u001b[38;5;21;01mscipy\u001b[39;00m\u001b[38;5;21;01m.\u001b[39;00m\u001b[38;5;21;01minterpolate\u001b[39;00m \u001b[38;5;28;01mimport\u001b[39;00m interp1d\n\u001b[1;32m      5\u001b[0m SIDEREAL_FACTOR \u001b[38;5;241m=\u001b[39m \u001b[38;5;241m1.0027379093604878\u001b[39m  \u001b[38;5;66;03m# 86400/((1.0*units.sday).to(units.s).value)\u001b[39;00m\n\u001b[0;32m----> 7\u001b[0m arg_closest \u001b[38;5;241m=\u001b[39m \u001b[38;5;28;01mlambda\u001b[39;00m x, y: np\u001b[38;5;241m.\u001b[39margmin(np\u001b[38;5;241m.\u001b[39mabs((\u001b[43mx\u001b[49m\u001b[43m \u001b[49m\u001b[38;5;241;43m-\u001b[39;49m\u001b[43m \u001b[49m\u001b[43my\u001b[49m)))\n\u001b[1;32m     10\u001b[0m \u001b[38;5;28;01mdef\u001b[39;00m \u001b[38;5;21mneighbours\u001b[39m(arr, val):\n\u001b[1;32m     11\u001b[0m \u001b[38;5;250m    \u001b[39m\u001b[38;5;124;03m\"\"\"\u001b[39;00m\n\u001b[1;32m     12\u001b[0m \u001b[38;5;124;03m    return two closest values in arr to val\u001b[39;00m\n\u001b[1;32m     13\u001b[0m \u001b[38;5;124;03m    assumes arr is sorted (lowest value first)\u001b[39;00m\n\u001b[1;32m     14\u001b[0m \u001b[38;5;124;03m    \"\"\"\u001b[39;00m\n",
      "File \u001b[0;32m~/miniconda3/envs/helioschedule/lib/python3.12/site-packages/astropy/coordinates/angles/core.py:651\u001b[0m, in \u001b[0;36mLatitude.__array_ufunc__\u001b[0;34m(self, *args, **kwargs)\u001b[0m\n\u001b[1;32m    650\u001b[0m \u001b[38;5;28;01mdef\u001b[39;00m \u001b[38;5;21m__array_ufunc__\u001b[39m(\u001b[38;5;28mself\u001b[39m, \u001b[38;5;241m*\u001b[39margs, \u001b[38;5;241m*\u001b[39m\u001b[38;5;241m*\u001b[39mkwargs):\n\u001b[0;32m--> 651\u001b[0m     results \u001b[38;5;241m=\u001b[39m \u001b[38;5;28;43msuper\u001b[39;49m\u001b[43m(\u001b[49m\u001b[43m)\u001b[49m\u001b[38;5;241;43m.\u001b[39;49m\u001b[43m__array_ufunc__\u001b[49m\u001b[43m(\u001b[49m\u001b[38;5;241;43m*\u001b[39;49m\u001b[43margs\u001b[49m\u001b[43m,\u001b[49m\u001b[43m \u001b[49m\u001b[38;5;241;43m*\u001b[39;49m\u001b[38;5;241;43m*\u001b[39;49m\u001b[43mkwargs\u001b[49m\u001b[43m)\u001b[49m\n\u001b[1;32m    652\u001b[0m     \u001b[38;5;28;01mreturn\u001b[39;00m _no_angle_subclass(results)\n",
      "File \u001b[0;32m~/miniconda3/envs/helioschedule/lib/python3.12/site-packages/astropy/units/quantity.py:696\u001b[0m, in \u001b[0;36mQuantity.__array_ufunc__\u001b[0;34m(self, function, method, *inputs, **kwargs)\u001b[0m\n\u001b[1;32m    694\u001b[0m     \u001b[38;5;28;01mreturn\u001b[39;00m \u001b[38;5;28mNotImplemented\u001b[39m\n\u001b[1;32m    695\u001b[0m \u001b[38;5;28;01melse\u001b[39;00m:\n\u001b[0;32m--> 696\u001b[0m     \u001b[38;5;28;01mraise\u001b[39;00m e\n",
      "File \u001b[0;32m~/miniconda3/envs/helioschedule/lib/python3.12/site-packages/astropy/units/quantity.py:641\u001b[0m, in \u001b[0;36mQuantity.__array_ufunc__\u001b[0;34m(self, function, method, *inputs, **kwargs)\u001b[0m\n\u001b[1;32m    636\u001b[0m \u001b[38;5;66;03m# Determine required conversion functions -- to bring the unit of the\u001b[39;00m\n\u001b[1;32m    637\u001b[0m \u001b[38;5;66;03m# input to that expected (e.g., radian for np.sin), or to get\u001b[39;00m\n\u001b[1;32m    638\u001b[0m \u001b[38;5;66;03m# consistent units between two inputs (e.g., in np.add) --\u001b[39;00m\n\u001b[1;32m    639\u001b[0m \u001b[38;5;66;03m# and the unit of the result (or tuple of units for nout > 1).\u001b[39;00m\n\u001b[1;32m    640\u001b[0m \u001b[38;5;28;01mtry\u001b[39;00m:\n\u001b[0;32m--> 641\u001b[0m     converters, unit \u001b[38;5;241m=\u001b[39m \u001b[43mconverters_and_unit\u001b[49m\u001b[43m(\u001b[49m\u001b[43mfunction\u001b[49m\u001b[43m,\u001b[49m\u001b[43m \u001b[49m\u001b[43mmethod\u001b[49m\u001b[43m,\u001b[49m\u001b[43m \u001b[49m\u001b[38;5;241;43m*\u001b[39;49m\u001b[43minputs\u001b[49m\u001b[43m)\u001b[49m\n\u001b[1;32m    643\u001b[0m     out \u001b[38;5;241m=\u001b[39m kwargs\u001b[38;5;241m.\u001b[39mget(\u001b[38;5;124m\"\u001b[39m\u001b[38;5;124mout\u001b[39m\u001b[38;5;124m\"\u001b[39m, \u001b[38;5;28;01mNone\u001b[39;00m)\n\u001b[1;32m    644\u001b[0m     \u001b[38;5;66;03m# Avoid loop back by turning any Quantity output into array views.\u001b[39;00m\n",
      "File \u001b[0;32m~/miniconda3/envs/helioschedule/lib/python3.12/site-packages/astropy/units/quantity_helper/converters.py:199\u001b[0m, in \u001b[0;36mconverters_and_unit\u001b[0;34m(function, method, *args)\u001b[0m\n\u001b[1;32m    197\u001b[0m             converters[i] \u001b[38;5;241m=\u001b[39m \u001b[38;5;28;01mNone\u001b[39;00m\n\u001b[1;32m    198\u001b[0m         \u001b[38;5;28;01melse\u001b[39;00m:\n\u001b[0;32m--> 199\u001b[0m             \u001b[38;5;28;01mraise\u001b[39;00m UnitConversionError(\n\u001b[1;32m    200\u001b[0m                 \u001b[38;5;124mf\u001b[39m\u001b[38;5;124m\"\u001b[39m\u001b[38;5;124mCan only apply \u001b[39m\u001b[38;5;124m'\u001b[39m\u001b[38;5;132;01m{\u001b[39;00mfunction\u001b[38;5;241m.\u001b[39m\u001b[38;5;18m__name__\u001b[39m\u001b[38;5;132;01m}\u001b[39;00m\u001b[38;5;124m'\u001b[39m\u001b[38;5;124m function to \u001b[39m\u001b[38;5;124m\"\u001b[39m\n\u001b[1;32m    201\u001b[0m                 \u001b[38;5;124m\"\u001b[39m\u001b[38;5;124mdimensionless quantities when other argument is not \u001b[39m\u001b[38;5;124m\"\u001b[39m\n\u001b[1;32m    202\u001b[0m                 \u001b[38;5;124m\"\u001b[39m\u001b[38;5;124ma quantity (unless the latter is all zero/infinity/nan).\u001b[39m\u001b[38;5;124m\"\u001b[39m\n\u001b[1;32m    203\u001b[0m             )\n\u001b[1;32m    204\u001b[0m \u001b[38;5;28;01mexcept\u001b[39;00m \u001b[38;5;167;01mTypeError\u001b[39;00m:\n\u001b[1;32m    205\u001b[0m     \u001b[38;5;66;03m# _can_have_arbitrary_unit failed: arg could not be compared\u001b[39;00m\n\u001b[1;32m    206\u001b[0m     \u001b[38;5;66;03m# with zero or checked to be finite. Then, ufunc will fail too.\u001b[39;00m\n\u001b[1;32m    207\u001b[0m     \u001b[38;5;28;01mraise\u001b[39;00m \u001b[38;5;167;01mTypeError\u001b[39;00m(\n\u001b[1;32m    208\u001b[0m         \u001b[38;5;124m\"\u001b[39m\u001b[38;5;124mUnsupported operand type(s) for ufunc \u001b[39m\u001b[38;5;132;01m{}\u001b[39;00m\u001b[38;5;124m: \u001b[39m\u001b[38;5;124m'\u001b[39m\u001b[38;5;132;01m{}\u001b[39;00m\u001b[38;5;124m'\u001b[39m\u001b[38;5;124m\"\u001b[39m\u001b[38;5;241m.\u001b[39mformat(\n\u001b[1;32m    209\u001b[0m             function\u001b[38;5;241m.\u001b[39m\u001b[38;5;18m__name__\u001b[39m,\n\u001b[1;32m    210\u001b[0m             \u001b[38;5;124m\"\u001b[39m\u001b[38;5;124m,\u001b[39m\u001b[38;5;124m\"\u001b[39m\u001b[38;5;241m.\u001b[39mjoin([arg\u001b[38;5;241m.\u001b[39m\u001b[38;5;18m__class__\u001b[39m\u001b[38;5;241m.\u001b[39m\u001b[38;5;18m__name__\u001b[39m \u001b[38;5;28;01mfor\u001b[39;00m arg \u001b[38;5;129;01min\u001b[39;00m args]),\n\u001b[1;32m    211\u001b[0m         )\n\u001b[1;32m    212\u001b[0m     )\n",
      "\u001b[0;31mUnitConversionError\u001b[0m: Can only apply 'subtract' function to dimensionless quantities when other argument is not a quantity (unless the latter is all zero/infinity/nan)."
     ]
    }
   ],
   "source": [
    "scheduler = DayScheduler(conf=conf)\n",
    "scheduler.setup_day(ref_time_gps=local_noon.gps + ha.hour*3600 - 600)\n",
    "scheduler.setup_obs(solar_noon_gps=local_noon.gps, ha=ha.deg, dec=dec.deg, dec_sun=sun.dec.deg, beam_chan=conf['fields'][c]['beam_chan'])\n",
    "#scheduler = DayScheduler(conf=conf)\n",
    "#schedule = scheduler.schedule_all_day(solar_noon_gps=local_noon.gps,\n",
    "#                                      local_noon_str=local_noon.isot,\n",
    "#                                      ha=ha, dec=dec, dec_sun=sun.dec.deg,\n",
    "#                                      adjust_seconds=-600 # found by trial and error\n",
    "#                                     )\n",
    "#adjust_seconds isn't adjusted to be symmetric about zenith, but to avoid later in the day when the Sun is unavoidably in the main lobe as it is setting (which will also foreshorten baselines)"
   ]
  },
  {
   "cell_type": "code",
   "execution_count": null,
   "metadata": {},
   "outputs": [],
   "source": [
    "all_obstimes, sun_filter, target_beam, sun_beam = schedule"
   ]
  },
  {
   "cell_type": "code",
   "execution_count": null,
   "metadata": {},
   "outputs": [],
   "source": [
    "print(all_obstimes[0])\n",
    "print(divmod(all_obstimes[0], 8))"
   ]
  },
  {
   "cell_type": "code",
   "execution_count": null,
   "metadata": {},
   "outputs": [],
   "source": [
    "# sun_filter=True means good\n",
    "idxs = np.nanargmax(np.where(sun_filter, target_beam, np.nan), axis=0)\n",
    "az = np.array([azel[i][0] for i in idxs])\n",
    "el = np.array([azel[i][1] for i in idxs])"
   ]
  },
  {
   "cell_type": "code",
   "execution_count": null,
   "metadata": {},
   "outputs": [],
   "source": [
    "plt.figure()\n",
    "plt.plot(np.arange(len(az))*8/3600., az)\n",
    "plt.xlabel(\"hours since start\")\n",
    "plt.ylabel(\"azimuth/degrees\")\n",
    "plt.grid()\n",
    "plt.figure()\n",
    "plt.plot(np.arange(len(az))*8/3600., el)\n",
    "plt.xlabel(\"hours since start\")\n",
    "plt.ylabel(\"elevation/degrees\")\n",
    "plt.grid()\n",
    "fig, ax = plt.subplots(subplot_kw={'projection': 'polar'})\n",
    "ax.plot(np.radians(az), 90-el)\n",
    "ax.set_rmax(90)\n",
    "ax.set_title(\"Az and Zenith angle (note North is right)\")"
   ]
  },
  {
   "cell_type": "code",
   "execution_count": null,
   "metadata": {},
   "outputs": [],
   "source": [
    "print(f\"{len(idxs)} slots\")\n",
    "print(f\"{len(np.unique(idxs))} unique pointings\")\n",
    "print(np.sum(np.diff(idxs) != 0), \"changes of pointing\")\n",
    "\n",
    "change_idxs = np.hstack(([0], np.where(np.diff(idxs) != 0)[0]))\n",
    "print(\"change_indices\", change_idxs)\n",
    "obs_lengths = np.diff(np.hstack((change_idxs, len(idxs))))\n",
    "print(obs_lengths)\n",
    "print(obs_lengths*8)\n",
    "for i in sorted(np.unique(np.diff(change_idxs))):\n",
    "    print(f\"{np.sum(np.diff(change_idxs)==i)} observations of length {i*8}s\")"
   ]
  },
  {
   "cell_type": "code",
   "execution_count": null,
   "metadata": {},
   "outputs": [],
   "source": [
    "change_idxs\n",
    "np.hstack(([0], change_idxs))"
   ]
  },
  {
   "cell_type": "markdown",
   "metadata": {},
   "source": [
    "## Divide into equally spaced 200s observations"
   ]
  },
  {
   "cell_type": "code",
   "execution_count": null,
   "metadata": {},
   "outputs": [],
   "source": [
    "idxs_200 = idxs.reshape(-1, 25)\n",
    "print(idxs_200.shape)\n",
    "n_obs_200 = idxs_200.shape[0]\n",
    "print(f\"{np.sum(np.all(idxs_200==idxs_200[:, 0, None], axis=1))}/{n_obs_200} observations have the same optimal pointing for all 25 8-second blocks\")\n",
    "for i in range(n_obs_200):\n",
    "    if np.all(idxs_200[i]==idxs_200[None, i, 0]):\n",
    "        continue\n",
    "    print(i, idxs_200[i])"
   ]
  },
  {
   "cell_type": "markdown",
   "metadata": {},
   "source": [
    "### Visualising Observations"
   ]
  },
  {
   "cell_type": "code",
   "execution_count": null,
   "metadata": {},
   "outputs": [],
   "source": [
    "print(idxs.shape)\n",
    "print(target_beam.shape)\n",
    "print(np.repeat(5, 4))\n",
    "np.arange(5)"
   ]
  },
  {
   "cell_type": "code",
   "execution_count": null,
   "metadata": {},
   "outputs": [],
   "source": [
    "idxs_200 = idxs.reshape(-1, 25)\n",
    "sb_200 = sun_beam.reshape(197, -1, 25)\n",
    "tb_200 = target_beam.reshape(197, -1, 25)\n",
    "print(idxs_200.shape)\n",
    "print(sb_200.shape)\n",
    "print(tb_200.shape)\n",
    "n_obs_200 = idxs_200.shape[0]\n",
    "print(f\"{np.sum(np.all(idxs_200==idxs_200[:, 0, None], axis=1))}/{n_obs_200} observations have the same optimal pointing for all 25 8-second blocks\")\n",
    "for i in range(n_obs_200):\n",
    "    if np.all(idxs_200[i]==idxs_200[None, i, 0]):\n",
    "        continue\n",
    "    plt.figure()\n",
    "    plt.semilogy()\n",
    "    plt.title(i)\n",
    "    plt.axhline(10**-3, ls=':', color='black')\n",
    "    plt.scatter(np.arange(25), tb_200[idxs_200[i], np.repeat(i, 25), np.arange(25)], color='black', marker='+', label=\"target_beam\")\n",
    "    plt.scatter(np.arange(25), sb_200[idxs_200[i], np.repeat(i, 25), np.arange(25)], color='black', marker='o', label=\"sun_beam\")\n",
    "    for idx in np.unique(idxs_200[i]):\n",
    "        plt.plot(np.arange(25), tb_200[idx, i, :], label=f\"target {idx}\")\n",
    "        plt.plot(np.arange(25), sb_200[idx, i, :], label=f\"sun    {idx}\")\n",
    "    plt.legend()"
   ]
  },
  {
   "cell_type": "code",
   "execution_count": null,
   "metadata": {},
   "outputs": [],
   "source": [
    "def mode(a):\n",
    "    _, idx, counts = np.unique(a, return_index=True, return_counts=True)\n",
    "    return a[idx[np.argmax(counts)]]\n",
    "\n",
    "ha_scale =  scheduler.beams.df[\"beams\"].dims[3][0]\n",
    "dec_scale = scheduler.beams.df[\"beams\"].dims[2][0]\n",
    "for i in range(n_obs_200):\n",
    "    freq_idx = scheduler.beams.beam_str_to_idx(conf[\"fields\"][c][\"beam_chan\"])\n",
    "    sweetspot=mode(idxs_200[i])\n",
    "    beam_idx = np.where(scheduler.beams.df[\"beams\"].dims[1][0]==sweetspot)[0][0]\n",
    "    beam = scheduler.beams.df[\"beams\"][freq_idx, beam_idx, ...]\n",
    "    plt.figure()\n",
    "    plt.imshow(np.log10(beam), origin='lower', extent=[ha_scale[0], ha_scale[-1], dec_scale[0], dec_scale[-1]])\n",
    "    starttime = all_obstimes[i*25]\n",
    "    sun_ha = 360*(starttime-local_noon.gps)/86400.\n",
    "    plt.scatter([sun_ha], [sun.dec.deg], color='magenta', label='Sun')\n",
    "    plt.scatter([sun_ha-ha], [dec], marker='+', color='magenta', label='Target')\n",
    "    plt.title(f\"{c} beam {sweetspot} ({np.unique(idxs_200[i])}) az={azel[sweetspot][0]:.0f} el={azel[sweetspot][1]:.0f}\\n reftime{(starttime-ref_time.gps)/3600.:+.1f}hr solar noon{(starttime-local_noon.gps)/3600.:+.1f}hr\" )\n",
    "    plt.legend(loc='upper left')\n",
    "    plt.savefig(f\"all_plots/obs_{i:03d}.png\")"
   ]
  },
  {
   "cell_type": "code",
   "execution_count": null,
   "metadata": {},
   "outputs": [],
   "source": [
    "times = Time(all_obstimes[::25], format='gps')\n",
    "(times.gps[-1]-times.gps[0])/3600."
   ]
  },
  {
   "cell_type": "code",
   "execution_count": null,
   "metadata": {},
   "outputs": [],
   "source": [
    "print(tb_200[1, 114, :])"
   ]
  },
  {
   "cell_type": "markdown",
   "metadata": {},
   "source": [
    "# Generate Observing Script\n",
    "May not be necessary if we are using triggering infrastructure?"
   ]
  },
  {
   "cell_type": "code",
   "execution_count": null,
   "metadata": {},
   "outputs": [],
   "source": [
    "duration=200\n",
    "obs_chan=\"57:68;121:132\"\n",
    "obs_name_prefix='waszewski2024a_ips'\n",
    "field=\"\"\n",
    "shifttime=200\n",
    "inttime=0.5\n",
    "freqres=40\n",
    "creator=\"jmorgan\"\n",
    "project=\"G0106\""
   ]
  },
  {
   "cell_type": "code",
   "execution_count": null,
   "metadata": {},
   "outputs": [],
   "source": [
    "for i in range(n_obs_200):\n",
    "    sweetspot=mode(idxs_200[i])\n",
    "    az = azel[sweetspot][0]\n",
    "    el = azel[sweetspot][1]\n",
    "    time_comma = times[i].utc.isot[:19].replace(\"T\", \",\")\n",
    "    obsid = str(int(times[i].gps))\n",
    "    OBSERVATION_STR = f\"schedule_observation.py --starttime={time_comma} --stoptime=++{duration}s --freq='{obs_chan}' --obsname={obs_name_prefix}{field} --shifttime={shifttime} --mode=MWAX_CORRELATOR --inttime={inttime} --freqres={freqres} --creator={creator} --project={project} --azimuth={az} --elevation={el} # {obsid}\"\n",
    "    print(OBSERVATION_STR)"
   ]
  },
  {
   "cell_type": "code",
   "execution_count": null,
   "metadata": {},
   "outputs": [],
   "source": [
    "print(\"obsid,date,sweetspot,az,el,target_beam,sun_beam\")\n",
    "for i in range(n_obs_200):\n",
    "    sweetspot=mode(idxs_200[i])\n",
    "    az = azel[sweetspot][0]\n",
    "    el = azel[sweetspot][1]\n",
    "    time = times[i].utc.isot[:19]\n",
    "    obsid = str(int(times[i].gps))\n",
    "    target_beam = tb_200[sweetspot, i, 12]\n",
    "    sun_beam = sb_200[sweetspot, i, 12]\n",
    "    print(','.join((obsid,time,str(sweetspot),str(az),str(el),f\"{target_beam:.6e}\",f\"{sun_beam:.6e}\")))"
   ]
  },
  {
   "cell_type": "code",
   "execution_count": null,
   "metadata": {},
   "outputs": [],
   "source": []
  }
 ],
 "metadata": {
  "kernelspec": {
   "display_name": "helioschedule",
   "language": "python",
   "name": "python3"
  },
  "language_info": {
   "codemirror_mode": {
    "name": "ipython",
    "version": 3
   },
   "file_extension": ".py",
   "mimetype": "text/x-python",
   "name": "python",
   "nbconvert_exporter": "python",
   "pygments_lexer": "ipython3",
   "version": "3.12.4"
  }
 },
 "nbformat": 4,
 "nbformat_minor": 2
}
